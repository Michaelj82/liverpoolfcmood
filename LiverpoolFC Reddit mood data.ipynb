{
 "cells": [
  {
   "cell_type": "code",
   "execution_count": 1,
   "id": "1b4ff964",
   "metadata": {},
   "outputs": [],
   "source": [
    "import praw"
   ]
  },
  {
   "cell_type": "code",
   "execution_count": 25,
   "id": "9ee6c235",
   "metadata": {},
   "outputs": [],
   "source": [
    "reddit = praw.Reddit(client_id='BZP40CxtUuPK51Wxgjglqw',\n",
    "                    client_secret= '-6P6IQjnRKAVckg9s66Tf8Xy5hTIhg',\n",
    "                    user_agent='User-Agent: liverpool:pre.match.mood:v1.0 (by /u/u/Reasonable-Manner680)',\n",
    "                    username='Reasonable-Manner680',\n",
    "                    password='leon82020',)"
   ]
  },
  {
   "cell_type": "code",
   "execution_count": 99,
   "id": "1de45ec8",
   "metadata": {},
   "outputs": [],
   "source": [
    "#Poll Reddit by sub\n",
    "sub='LiverpoolFC'\n",
    "subReddit = reddit.subreddit(sub)\n"
   ]
  },
  {
   "cell_type": "code",
   "execution_count": 126,
   "id": "5b9b57eb",
   "metadata": {},
   "outputs": [],
   "source": [
    "total_limit = 100\n",
    "Player_Ratings = []\n",
    "cycle= True\n",
    "count = 0\n",
    "beginning_of_season = 1659744000\n"
   ]
  },
  {
   "cell_type": "code",
   "execution_count": 129,
   "id": "09c9eff4",
   "metadata": {},
   "outputs": [],
   "source": [
    "\n",
    "hot_liv = subReddit.search('Player Ratings')\n",
    "\n",
    "submission_list = [\n",
    "    x for x in hot_liv\n",
    "    if (x.created_utc >= beginning_of_season and x.link_flair_text == 'Player Ratings')\n",
    "]"
   ]
  },
  {
   "cell_type": "code",
   "execution_count": 151,
   "id": "a3212b16",
   "metadata": {},
   "outputs": [
    {
     "name": "stdout",
     "output_type": "stream",
     "text": [
      "LIVERPOOL FC 2 - 5 REAL MADRID\n",
      "CRYSTAL PALACE 0 - 0 LIVERPOOL FC\n",
      "WOLVES 3 - 0 LIVERPOOL FC\n",
      "NEWCASTLE 0 - 2 LIVERPOOL FC\n",
      "LIVERPOOL FC 2 - 0 EVERTON\n",
      "BRIGHTON 2 - 1 LIVERPOOL FC\n",
      "\n",
      "BRIGHTON 3 - 0 LIVERPOOL FC\n",
      "WOLVES 0 - 1 LIVERPOOL FC & LIVERPOOL FC 0 - 0 CHELSEA\n",
      "Mid-Season Review & Southampton\n",
      "Liverpool 1 - 0 Man City\n",
      "Liverpool 3 - 1 Southampton\n",
      "Liverpool 1 - 0 West Ham\n",
      "EVERTON 0 - 0 LIVERPOOL FC & NAPOLI 4 - 1 LIVERPOOL FC\n",
      "Liverpool 1 - 2 Leeds\n",
      "Spurs 1 - 2 Liverpool\n",
      "Liverpool 1 - 0 Man City\n",
      "Nottingham Forest 1 - 0 Liverpool\n",
      "Arsenal 3 - 2 Liverpool\n",
      "Rangers 1 - 7 Liverpool\n",
      "Fulham 2 - 2 Liverpool\n",
      "Everton 0 - 0 Liverpool\n",
      "Liverpool 3 - 3 Brighton\n",
      "Spurs\n",
      "Liverpool 2 - 1 Ajax\n",
      "Nottingham Forest 1 - 0 Liverpool\n",
      "Liverpool 0 (3) - (2) 0 Derby County\n",
      "Leeds\n",
      "Arsenal\n",
      "Liverpool 1 - 0 West Ham\n",
      "LIVERPOOL FC 1 - 1 CRYSTAL PALACE\n",
      "Manchester United 2 - 1 Liverpool\n",
      "Liverpool 9 - 0 Bournemouth\n",
      "Liverpool 3 - 3 Brighton\n",
      "Liverpool 2 - 0 Rangers\n",
      "Liverpool 2 - 0 Napoli\n",
      "Man United 2 - 1 Liverpool\n",
      "Napoli 4 - 1 Liverpool\n",
      "Liverpool 2 - 1 Ajax\n",
      "Fulham 2 - 2 Liverpool\n",
      "Liverpool 9 - 0 Bournemouth\n",
      "Ajax 0 - 3 Liverpool\n",
      "Liverpool 1 - 1 Crystal Palace\n",
      "Liverpool 2-0 Rangers\n",
      "Ajax 0 - 3 Liverpool\n"
     ]
    }
   ],
   "source": [
    "import pandas as pd\n",
    "data = pd.DataFrame()\n",
    "\n",
    "for i in submission_list:\n",
    "    finaltitle = ''\n",
    "    title = i.title.split()\n",
    "    for i in range(len(title)):\n",
    "        if ']' in title[i]:\n",
    "            newtitle = title[i+1::]\n",
    "            finaltitle = ' '.join(newtitle)\n",
    "            data[finaltitle] = 0\n",
    "    print(finaltitle)\n"
   ]
  },
  {
   "cell_type": "code",
   "execution_count": 149,
   "id": "43880118",
   "metadata": {},
   "outputs": [
    {
     "data": {
      "text/html": [
       "<div>\n",
       "<style scoped>\n",
       "    .dataframe tbody tr th:only-of-type {\n",
       "        vertical-align: middle;\n",
       "    }\n",
       "\n",
       "    .dataframe tbody tr th {\n",
       "        vertical-align: top;\n",
       "    }\n",
       "\n",
       "    .dataframe thead th {\n",
       "        text-align: right;\n",
       "    }\n",
       "</style>\n",
       "<table border=\"1\" class=\"dataframe\">\n",
       "  <thead>\n",
       "    <tr style=\"text-align: right;\">\n",
       "      <th></th>\n",
       "      <th>LIVERPOOL FC 2 - 5 REAL MADRID</th>\n",
       "      <th>CRYSTAL PALACE 0 - 0 LIVERPOOL FC</th>\n",
       "      <th>WOLVES 3 - 0 LIVERPOOL FC</th>\n",
       "      <th>NEWCASTLE 0 - 2 LIVERPOOL FC</th>\n",
       "      <th>LIVERPOOL FC 2 - 0 EVERTON</th>\n",
       "      <th>BRIGHTON 2 - 1 LIVERPOOL FC</th>\n",
       "      <th>BRIGHTON 3 - 0 LIVERPOOL FC</th>\n",
       "      <th>WOLVES 0 - 1 LIVERPOOL FC &amp; LIVERPOOL FC 0 - 0 CHELSEA</th>\n",
       "      <th>Mid-Season Review &amp; Southampton</th>\n",
       "      <th>Liverpool 1 - 0 Man City</th>\n",
       "      <th>...</th>\n",
       "      <th>LIVERPOOL FC 1 - 1 CRYSTAL PALACE</th>\n",
       "      <th>Manchester United 2 - 1 Liverpool</th>\n",
       "      <th>Liverpool 9 - 0 Bournemouth</th>\n",
       "      <th>Liverpool 2 - 0 Rangers</th>\n",
       "      <th>Liverpool 2 - 0 Napoli</th>\n",
       "      <th>Man United 2 - 1 Liverpool</th>\n",
       "      <th>Napoli 4 - 1 Liverpool</th>\n",
       "      <th>Ajax 0 - 3 Liverpool</th>\n",
       "      <th>Liverpool 1 - 1 Crystal Palace</th>\n",
       "      <th>Liverpool 2-0 Rangers</th>\n",
       "    </tr>\n",
       "  </thead>\n",
       "  <tbody>\n",
       "  </tbody>\n",
       "</table>\n",
       "<p>0 rows × 39 columns</p>\n",
       "</div>"
      ],
      "text/plain": [
       "Empty DataFrame\n",
       "Columns: [LIVERPOOL FC 2 - 5 REAL MADRID, CRYSTAL PALACE 0 - 0 LIVERPOOL FC, WOLVES 3 - 0 LIVERPOOL FC, NEWCASTLE 0 - 2 LIVERPOOL FC, LIVERPOOL FC 2 - 0 EVERTON, BRIGHTON 2 - 1 LIVERPOOL FC, BRIGHTON 3 - 0 LIVERPOOL FC, WOLVES 0 - 1 LIVERPOOL FC & LIVERPOOL FC 0 - 0 CHELSEA, Mid-Season Review & Southampton, Liverpool 1 - 0 Man City, Liverpool 3 - 1 Southampton, Liverpool 1 - 0 West Ham, EVERTON 0 - 0 LIVERPOOL FC & NAPOLI 4 - 1 LIVERPOOL FC, Liverpool 1 - 2 Leeds, Spurs 1 - 2 Liverpool, Nottingham Forest 1 - 0 Liverpool, Arsenal 3 - 2 Liverpool, Rangers 1 - 7 Liverpool, Fulham 2 - 2 Liverpool, Everton 0 - 0 Liverpool, Liverpool 3 - 3 Brighton, Derby & [RESULTS] Spurs, Spurs, Liverpool 2 - 1 Ajax, Liverpool 0 (3) - (2) 0 Derby County, Liverpool 2 - 0 Napoli & [RESULTS] Leeds, Leeds, Rangers & [PLAYER RATINGS RESULTS] Arsenal, Arsenal, LIVERPOOL FC 1 - 1 CRYSTAL PALACE, Manchester United 2 - 1 Liverpool, Liverpool 9 - 0 Bournemouth, Liverpool 2 - 0 Rangers, Liverpool 2 - 0 Napoli, Man United 2 - 1 Liverpool, Napoli 4 - 1 Liverpool, Ajax 0 - 3 Liverpool, Liverpool 1 - 1 Crystal Palace, Liverpool 2-0 Rangers]\n",
       "Index: []\n",
       "\n",
       "[0 rows x 39 columns]"
      ]
     },
     "execution_count": 149,
     "metadata": {},
     "output_type": "execute_result"
    }
   ],
   "source": [
    "data"
   ]
  },
  {
   "cell_type": "code",
   "execution_count": null,
   "id": "f1208bda",
   "metadata": {},
   "outputs": [],
   "source": []
  }
 ],
 "metadata": {
  "kernelspec": {
   "display_name": "Python 3 (ipykernel)",
   "language": "python",
   "name": "python3"
  },
  "language_info": {
   "codemirror_mode": {
    "name": "ipython",
    "version": 3
   },
   "file_extension": ".py",
   "mimetype": "text/x-python",
   "name": "python",
   "nbconvert_exporter": "python",
   "pygments_lexer": "ipython3",
   "version": "3.9.13"
  }
 },
 "nbformat": 4,
 "nbformat_minor": 5
}
