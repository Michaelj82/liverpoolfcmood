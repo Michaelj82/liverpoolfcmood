{
 "cells": [
  {
   "cell_type": "code",
   "execution_count": 149,
   "id": "1b4ff964",
   "metadata": {},
   "outputs": [],
   "source": [
    "import praw"
   ]
  },
  {
   "cell_type": "code",
   "execution_count": 150,
   "id": "9ee6c235",
   "metadata": {},
   "outputs": [],
   "source": [
    "reddit = praw.Reddit(client_id='redacted',\n",
    "                    client_secret= 'redacted',\n",
    "                    user_agent='redacted',\n",
    "                    username='redacted',\n",
    "                    password='redacted',)"
   ]
  },
  {
   "cell_type": "code",
   "execution_count": 151,
   "id": "1de45ec8",
   "metadata": {},
   "outputs": [
    {
     "ename": "SyntaxError",
     "evalue": "invalid syntax (739012568.py, line 7)",
     "output_type": "error",
     "traceback": [
      "\u001b[1;36m  File \u001b[1;32m\"C:\\Users\\mjjyo\\AppData\\Local\\Temp\\ipykernel_19464\\739012568.py\"\u001b[1;36m, line \u001b[1;32m7\u001b[0m\n\u001b[1;33m    {'subName': 'coys', 'postTitle': 'Thread', 'postFlair', 'PostMatch Thread'},\u001b[0m\n\u001b[1;37m                                                          ^\u001b[0m\n\u001b[1;31mSyntaxError\u001b[0m\u001b[1;31m:\u001b[0m invalid syntax\n"
     ]
    }
   ],
   "source": [
    "#Poll Reddit by sub\n",
    "\n",
    "subs = [{'subName': 'LiverpoolFC', 'postTitle': 'FT', 'postFlair': 'Post Match'},\n",
    "        {'subName': 'Gunners', 'postTitle': 'Post Match', 'postFlair': 'Post-Match Thread'},\n",
    "        {'subName': 'RedDevils', 'postTitle': 'Post Match', 'postFlair': None},\n",
    "        {'subName': 'MCFC', 'postTitle': 'Post Match', 'postFlair': 'Match Day'},\n",
    "        {'subName': 'coys', 'postTitle': 'Thread', 'postFlair', 'PostMatch Thread'},\n",
    "        {'subName': 'chelseafc', 'postTitle', 'Thread', 'postFlair', 'Post-Match Thread'}\n",
    "       ]\n",
    "\n",
    "sub='LiverpoolFC'\n",
    "subReddit = reddit.subreddit(sub)\n"
   ]
  },
  {
   "cell_type": "code",
   "execution_count": 152,
   "id": "5b9b57eb",
   "metadata": {},
   "outputs": [
    {
     "name": "stdout",
     "output_type": "stream",
     "text": [
      "{'subName': 'LiverpoolFC', 'postTitle': 'Post Match', 'postFlair': 'Post Match'}\n"
     ]
    }
   ],
   "source": [
    "end_of_season_2223 = 1685418710\n",
    "beginning_of_season2223 = 1659744000\n",
    "print(subs[0])"
   ]
  },
  {
   "cell_type": "code",
   "execution_count": 153,
   "id": "09c9eff4",
   "metadata": {},
   "outputs": [],
   "source": [
    "submission_list_liverpool = [\n",
    "    submission for submission in reddit.subreddit('LiverpoolFC').search('FT') if end_of_season_2223 >= submission.created_utc >= beginning_of_season2223 and submission.link_flair_text == 'Post Match'\n",
    "]\n",
    "submission_list_arsenal = [\n",
    "    submission for submission in reddit.subreddit('Gunners').search('Post Match') if end_of_season_2223 >= submission.created_utc >= beginning_of_season2223 and submission.link_flair_text == 'Post-Match Thread'\n",
    "\n",
    "]\n",
    "\n",
    "submission_list_manunited = [\n",
    "    submission for submission in reddit.subreddit('RedDevils').search('Post Match') if end_of_season_2223 >= submission.created_utc >= beginning_of_season2223\n",
    "\n",
    "]\n",
    "\n",
    "submission_list_mancity = [\n",
    "    submission for submission in reddit.subreddit('MCFC').search('Post') if end_of_season_2223 >= submission.created_utc >= beginning_of_season2223 and submission.link_flair_text == 'Match Day'\n",
    "\n",
    "]\n",
    "\n",
    "submission_list_spurs = [\n",
    "    submission for submission in reddit.subreddit('coys').search('post') if end_of_season_2223 >= submission.created_utc >= beginning_of_season2223 and submission.link_flair_text == 'PostMatch Thread'\n",
    "\n",
    "]\n",
    "\n",
    "submission_list_chelsea = [\n",
    "    submission for submission in reddit.subreddit('chelseafc').search('post') if end_of_season_2223 >= submission.created_utc >= beginning_of_season2223 and submission.link_flair_text == 'Post-Match Thread'\n",
    "\n",
    "]"
   ]
  },
  {
   "cell_type": "code",
   "execution_count": null,
   "id": "07fb6026",
   "metadata": {},
   "outputs": [],
   "source": []
  },
  {
   "cell_type": "code",
   "execution_count": 154,
   "id": "a3212b16",
   "metadata": {
    "scrolled": true
   },
   "outputs": [],
   "source": [
    "import pandas as pd\n",
    "\n",
    "def get_comment_data(end, beginning, submission_list):\n",
    "    data = pd.DataFrame()\n",
    "\n",
    "    for i in submission_list:\n",
    "        submission = reddit.submission(i)\n",
    "        finaltitle = ''\n",
    "        title = i.title.split()\n",
    "        for i in range(len(title)):\n",
    "            if ']' in title[i]:\n",
    "                newtitle = title[i+1::]\n",
    "                finaltitle = ' '.join(newtitle)\n",
    "        data[finaltitle] = 0\n",
    "\n",
    "        comment_data = []\n",
    "\n",
    "        submission.comments.replace_more(limit=None)\n",
    "\n",
    "        for comment in submission.comments.list():\n",
    "            comment_data.append(str(comment.body))\n",
    "\n",
    "\n",
    "        ser = pd.Series(comment_data)\n",
    "        data[finaltitle] = ser\n",
    "    return data\n"
   ]
  },
  {
   "cell_type": "code",
   "execution_count": null,
   "id": "5f9f47e9",
   "metadata": {},
   "outputs": [],
   "source": []
  },
  {
   "cell_type": "code",
   "execution_count": 156,
   "id": "43880118",
   "metadata": {},
   "outputs": [],
   "source": [
    "# data2223 = get_comment_data(end_of_season_2223, beginning_of_season2223, submission_list_liverpool)"
   ]
  },
  {
   "cell_type": "code",
   "execution_count": null,
   "id": "edb74d35",
   "metadata": {},
   "outputs": [],
   "source": [
    "# data2223"
   ]
  },
  {
   "cell_type": "code",
   "execution_count": 23,
   "id": "8ad02487",
   "metadata": {},
   "outputs": [
    {
     "name": "stderr",
     "output_type": "stream",
     "text": [
      "No model was supplied, defaulted to distilbert-base-uncased-finetuned-sst-2-english and revision af0f99b (https://huggingface.co/distilbert-base-uncased-finetuned-sst-2-english).\n",
      "Using a pipeline without specifying a model name and revision in production is not recommended.\n"
     ]
    }
   ],
   "source": [
    "from transformers import pipeline\n",
    "sentiment_pipeline = pipeline(\"sentiment-analysis\")"
   ]
  },
  {
   "cell_type": "code",
   "execution_count": 44,
   "id": "2790715a",
   "metadata": {},
   "outputs": [],
   "source": [
    "def get_mood_ratio(data):\n",
    "\n",
    "    moodDF = pd.DataFrame()\n",
    "    #for each column in the data\n",
    "    for col in data.columns:\n",
    "        col_list = []\n",
    "        #for each comment in each column\n",
    "        for comment in data[col].dropna():\n",
    "            #split text into words\n",
    "            temp = comment.split(' ')\n",
    "            #find length\n",
    "            length = len(temp)\n",
    "            #need to restrict length of paragraph so that the sentiment pipeline can work\n",
    "            if length > 375:\n",
    "                new_comment = ' '.join(temp[:375])\n",
    "                sent = sentiment_pipeline(new_comment)\n",
    "                col_list.append(sent[0])\n",
    "\n",
    "            else:\n",
    "                sent = sentiment_pipeline(comment)\n",
    "                col_list.append(sent[0])\n",
    "        \n",
    "        #\n",
    "        moodDF.loc[:, col] = pd.Series(col_list)\n",
    "        \n",
    "        \n",
    "    #cleaning moodDF, getting games out if there arent many comments\n",
    "    new_moodDF = moodDF.copy()\n",
    "    for column in new_moodDF.columns: \n",
    "        if new_moodDF[column].count() <= 7: \n",
    "            new_moodDF=new_moodDF.drop(column, axis=1) \n",
    "    \n",
    "    #now making percentage\n",
    "    percentage = pd.DataFrame()\n",
    "\n",
    "    for col in new_moodDF.columns:\n",
    "        num = 0\n",
    "        num_negative = 0\n",
    "        for item in new_moodDF[col].dropna():\n",
    "            if item['label'] == 'NEGATIVE':\n",
    "                num_negative += 1\n",
    "            num += 1\n",
    "        percentage[col] = [(num_negative/num)]\n",
    "    \n",
    "    return percentage\n",
    "moodDF = get_mood_ratio(data)"
   ]
  },
  {
   "cell_type": "code",
   "execution_count": 45,
   "id": "054a1adb",
   "metadata": {},
   "outputs": [
    {
     "data": {
      "text/html": [
       "<div>\n",
       "<style scoped>\n",
       "    .dataframe tbody tr th:only-of-type {\n",
       "        vertical-align: middle;\n",
       "    }\n",
       "\n",
       "    .dataframe tbody tr th {\n",
       "        vertical-align: top;\n",
       "    }\n",
       "\n",
       "    .dataframe thead th {\n",
       "        text-align: right;\n",
       "    }\n",
       "</style>\n",
       "<table border=\"1\" class=\"dataframe\">\n",
       "  <thead>\n",
       "    <tr style=\"text-align: right;\">\n",
       "      <th></th>\n",
       "      <th>LIVERPOOL FC 2 - 5 REAL MADRID</th>\n",
       "      <th>CRYSTAL PALACE 0 - 0 LIVERPOOL FC</th>\n",
       "      <th>LIVERPOOL FC 2 - 0 WOLVES</th>\n",
       "      <th>WOLVES 3 - 0 LIVERPOOL FC</th>\n",
       "      <th>NEWCASTLE 0 - 2 LIVERPOOL FC</th>\n",
       "      <th>LIVERPOOL FC 2 - 0 EVERTON</th>\n",
       "      <th>BRIGHTON 2 - 1 LIVERPOOL FC</th>\n",
       "      <th></th>\n",
       "      <th>BRIGHTON 3 - 0 LIVERPOOL FC</th>\n",
       "      <th>WOLVES 0 - 1 LIVERPOOL FC &amp; LIVERPOOL FC 0 - 0 CHELSEA</th>\n",
       "      <th>...</th>\n",
       "      <th>Rangers 1 - 7 Liverpool</th>\n",
       "      <th>Arsenal 3 - 2 Liverpool</th>\n",
       "      <th>Everton 0 - 0 Liverpool</th>\n",
       "      <th>Liverpool 3 - 3 Brighton</th>\n",
       "      <th>LIVERPOOL FC 1 - 1 CRYSTAL PALACE</th>\n",
       "      <th>Liverpool 9 - 0 Bournemouth</th>\n",
       "      <th>Manchester United 2 - 1 Liverpool</th>\n",
       "      <th>Man United 2 - 1 Liverpool</th>\n",
       "      <th>Napoli 4 - 1 Liverpool</th>\n",
       "      <th>Liverpool 1 - 1 Crystal Palace</th>\n",
       "    </tr>\n",
       "  </thead>\n",
       "  <tbody>\n",
       "    <tr>\n",
       "      <th>0</th>\n",
       "      <td>0.73913</td>\n",
       "      <td>0.685393</td>\n",
       "      <td>0.6</td>\n",
       "      <td>0.626866</td>\n",
       "      <td>0.357143</td>\n",
       "      <td>0.423077</td>\n",
       "      <td>0.714286</td>\n",
       "      <td>0.702381</td>\n",
       "      <td>0.653846</td>\n",
       "      <td>0.727273</td>\n",
       "      <td>...</td>\n",
       "      <td>0.384615</td>\n",
       "      <td>0.47619</td>\n",
       "      <td>0.627451</td>\n",
       "      <td>0.727273</td>\n",
       "      <td>0.612245</td>\n",
       "      <td>0.363636</td>\n",
       "      <td>0.658537</td>\n",
       "      <td>0.6875</td>\n",
       "      <td>0.461538</td>\n",
       "      <td>0.538462</td>\n",
       "    </tr>\n",
       "  </tbody>\n",
       "</table>\n",
       "<p>1 rows × 28 columns</p>\n",
       "</div>"
      ],
      "text/plain": [
       "   LIVERPOOL FC 2 - 5 REAL MADRID  CRYSTAL PALACE 0 - 0 LIVERPOOL FC  \\\n",
       "0                         0.73913                           0.685393   \n",
       "\n",
       "   LIVERPOOL FC 2 - 0 WOLVES  WOLVES 3 - 0 LIVERPOOL FC  \\\n",
       "0                        0.6                   0.626866   \n",
       "\n",
       "   NEWCASTLE 0 - 2 LIVERPOOL FC  LIVERPOOL FC 2 - 0 EVERTON  \\\n",
       "0                      0.357143                    0.423077   \n",
       "\n",
       "   BRIGHTON 2 - 1 LIVERPOOL FC            BRIGHTON 3 - 0 LIVERPOOL FC  \\\n",
       "0                     0.714286  0.702381                     0.653846   \n",
       "\n",
       "   WOLVES 0 - 1 LIVERPOOL FC & LIVERPOOL FC 0 - 0 CHELSEA  ...  \\\n",
       "0                                           0.727273       ...   \n",
       "\n",
       "   Rangers 1 - 7 Liverpool  Arsenal 3 - 2 Liverpool  Everton 0 - 0 Liverpool  \\\n",
       "0                 0.384615                  0.47619                 0.627451   \n",
       "\n",
       "   Liverpool 3 - 3 Brighton  LIVERPOOL FC 1 - 1 CRYSTAL PALACE  \\\n",
       "0                  0.727273                           0.612245   \n",
       "\n",
       "   Liverpool 9 - 0 Bournemouth  Manchester United 2 - 1 Liverpool  \\\n",
       "0                     0.363636                           0.658537   \n",
       "\n",
       "   Man United 2 - 1 Liverpool  Napoli 4 - 1 Liverpool  \\\n",
       "0                      0.6875                0.461538   \n",
       "\n",
       "   Liverpool 1 - 1 Crystal Palace  \n",
       "0                        0.538462  \n",
       "\n",
       "[1 rows x 28 columns]"
      ]
     },
     "execution_count": 45,
     "metadata": {},
     "output_type": "execute_result"
    }
   ],
   "source": [
    "moodDF"
   ]
  },
  {
   "cell_type": "code",
   "execution_count": null,
   "id": "c6c80576",
   "metadata": {},
   "outputs": [],
   "source": []
  },
  {
   "cell_type": "code",
   "execution_count": null,
   "id": "7b5afc69",
   "metadata": {},
   "outputs": [],
   "source": [
    "\n",
    "        \n",
    "    "
   ]
  },
  {
   "cell_type": "code",
   "execution_count": null,
   "id": "6316d7e8",
   "metadata": {},
   "outputs": [],
   "source": []
  },
  {
   "cell_type": "code",
   "execution_count": null,
   "id": "ceb563d7",
   "metadata": {},
   "outputs": [],
   "source": []
  },
  {
   "cell_type": "code",
   "execution_count": null,
   "id": "d065ebc0",
   "metadata": {},
   "outputs": [],
   "source": []
  },
  {
   "cell_type": "code",
   "execution_count": null,
   "id": "829b9843",
   "metadata": {},
   "outputs": [],
   "source": []
  }
 ],
 "metadata": {
  "kernelspec": {
   "display_name": "Python 3 (ipykernel)",
   "language": "python",
   "name": "python3"
  },
  "language_info": {
   "codemirror_mode": {
    "name": "ipython",
    "version": 3
   },
   "file_extension": ".py",
   "mimetype": "text/x-python",
   "name": "python",
   "nbconvert_exporter": "python",
   "pygments_lexer": "ipython3",
   "version": "3.9.13"
  }
 },
 "nbformat": 4,
 "nbformat_minor": 5
}
